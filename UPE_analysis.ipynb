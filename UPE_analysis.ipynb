{
 "cells": [
  {
   "cell_type": "code",
   "execution_count": 1,
   "metadata": {},
   "outputs": [
    {
     "name": "stderr",
     "output_type": "stream",
     "text": [
      "\n",
      "WARNING UserWarning: Using default configuration from /home/henrique/anaconda3/envs/threeML/lib/python3.7/site-packages/threeML/data/threeML_config.yml. You might want to copy it to /home/henrique/.threeML/threeML_config.yml to customize it and avoid this warning.\n",
      "\n",
      "\n",
      "WARNING RuntimeWarning: Env. variable OMP_NUM_THREADS is not set. Please set it to 1 for optimal performances in 3ML\n",
      "\n",
      "\n",
      "WARNING RuntimeWarning: Env. variable MKL_NUM_THREADS is not set. Please set it to 1 for optimal performances in 3ML\n",
      "\n",
      "\n",
      "WARNING RuntimeWarning: Env. variable NUMEXPR_NUM_THREADS is not set. Please set it to 1 for optimal performances in 3ML\n",
      "\n"
     ]
    }
   ],
   "source": [
    "#In this first part we import all the libraries we will be using in the GRB analysis\n",
    "import numpy as np\n",
    "\n",
    "import matplotlib.pyplot as plt\n",
    "from jupyterthemes import jtplot\n",
    "import chainconsumer\n",
    "%matplotlib inline\n",
    "%matplotlib notebook\n",
    "jtplot.style(context=\"talk\", fscale=1, ticks=True, grid=False)\n",
    "from threeML import *\n",
    "OMP_NUM_THREADS=1\n",
    "\n",
    "import warnings\n",
    "\n",
    "\n",
    "warnings.simplefilter(\"ignore\")"
   ]
  },
  {
   "cell_type": "code",
   "execution_count": 4,
   "metadata": {},
   "outputs": [
    {
     "data": {
      "text/html": [
       "<i>Table length=1</i>\n",
       "<table id=\"table140292280761680\" class=\"table-striped table-bordered table-condensed\">\n",
       "<thead><tr><th>name</th><th>ra</th><th>dec</th><th>trigger_time</th><th>t90</th></tr></thead>\n",
       "<thead><tr><th>object</th><th>float64</th><th>float64</th><th>float64</th><th>float64</th></tr></thead>\n",
       "<tr><td>GRB090618353</td><td>293.990</td><td>78.358</td><td>55000.3530863</td><td>112.386</td></tr>\n",
       "</table>"
      ],
      "text/plain": [
       "<Table length=1>\n",
       "    name        ra     dec    trigger_time   t90  \n",
       "   object    float64 float64    float64    float64\n",
       "------------ ------- ------- ------------- -------\n",
       "GRB090618353 293.990  78.358 55000.3530863 112.386"
      ]
     },
     "execution_count": 4,
     "metadata": {},
     "output_type": "execute_result"
    }
   ],
   "source": [
    "#here we access the entire GBM catalog to find a specific GRB for analysing, \n",
    "#we can also search them in hearsac website\n",
    "\n",
    "gbm_catalog = FermiGBMBurstCatalog()\n",
    "gbm_catalog.query_sources(\"GRB090618353\")"
   ]
  },
  {
   "cell_type": "code",
   "execution_count": 5,
   "metadata": {},
   "outputs": [
    {
     "data": {
      "text/plain": [
       "{'source': {'fluence': '7.936000-120.322000', 'peak': '63.488000-64.512000'},\n",
       " 'background': {'pre': '-34.380000--6.250000',\n",
       "  'post': '204.170000-284.380000',\n",
       "  'full': '-34.380000--6.250000,204.170000-284.380000'},\n",
       " 'trigger': 'bn090618353',\n",
       " 'detectors': array(['n4', 'b0'], dtype='<U2'),\n",
       " 'best fit model': {'fluence': 'band', 'peak': 'comp'},\n",
       " 'ra': 293.99,\n",
       " 'dec': 78.3576}"
      ]
     },
     "metadata": {},
     "output_type": "display_data"
    }
   ],
   "source": [
    "#after choosing the GRB we take all of it's information for the analysis \n",
    "#such as what the detectors triggered and are relavant for the analysis\n",
    "#the interval the GRB occured, the background interval and the best fit model\n",
    "#also we can see the bestfit model and its parameters\n",
    "grb_info =  gbm_catalog.get_detector_information()[\"GRB090618353\"]\n",
    "\n",
    "gbm_detectors = grb_info['detectors']\n",
    "source_interval = grb_info[\"source\"][\"fluence\"]\n",
    "background_interval = grb_info[\"background\"][\"full\"]\n",
    "best_fit_model = grb_info[\"best fit model\"][\"fluence\"]\n",
    "model =  gbm_catalog.get_model(best_fit_model, \"fluence\")[\"GRB090618353\"]\n",
    "display(grb_info)"
   ]
  },
  {
   "cell_type": "code",
   "execution_count": 6,
   "metadata": {},
   "outputs": [],
   "source": [
    "#here we get from GBM database the main files of the triggered detectors, the tte data for the lightcurve\n",
    "#the cspec file for the spectrum and the rsp response files\n",
    "dload = download_GBM_trigger_data(\"bn090618353\",detectors=gbm_detectors)"
   ]
  },
  {
   "cell_type": "code",
   "execution_count": 7,
   "metadata": {
    "scrolled": false
   },
   "outputs": [
    {
     "data": {
      "application/vnd.jupyter.widget-view+json": {
       "model_id": "3db422b81fea4fad9ce675ec91ec7483",
       "version_major": 2,
       "version_minor": 0
      },
      "text/plain": [
       "VBox(children=(HTML(value='Loading PHAII spectra : '), HTML(value=''), FloatProgress(value=0.0)))"
      ]
     },
     "metadata": {},
     "output_type": "display_data"
    },
    {
     "name": "stdout",
     "output_type": "stream",
     "text": [
      "Auto-determined polynomial order: 2\n",
      "\n",
      "\n"
     ]
    },
    {
     "data": {
      "application/vnd.jupyter.widget-view+json": {
       "model_id": "e5a04314669c40a796db6bffcec35cd8",
       "version_major": 2,
       "version_minor": 0
      },
      "text/plain": [
       "VBox(children=(HTML(value='Fitting background : '), HTML(value=''), FloatProgress(value=0.0)))"
      ]
     },
     "metadata": {},
     "output_type": "display_data"
    },
    {
     "name": "stdout",
     "output_type": "stream",
     "text": [
      "Binned 2-order polynomial fit with the Powell method\n",
      "\n",
      "\n",
      "\n",
      "Saved fitted background to n4_bkg.h5.\n",
      "\n",
      "Successfully restored fit from n4_bkg.h5\n",
      "Auto-probed noise models:\n",
      "- observation: poisson\n",
      "- background: gaussian\n",
      "Range 9-900 translates to channels 5-123\n",
      "Now using 119 channels out of 128\n",
      "Now using 119 bins\n"
     ]
    },
    {
     "data": {
      "application/vnd.jupyter.widget-view+json": {
       "model_id": "b603a6e81bb64d94a3e5516393c14945",
       "version_major": 2,
       "version_minor": 0
      },
      "text/plain": [
       "VBox(children=(HTML(value='Loading PHAII spectra : '), HTML(value=''), FloatProgress(value=0.0)))"
      ]
     },
     "metadata": {},
     "output_type": "display_data"
    },
    {
     "name": "stdout",
     "output_type": "stream",
     "text": [
      "Auto-determined polynomial order: 0\n",
      "\n",
      "\n"
     ]
    },
    {
     "data": {
      "application/vnd.jupyter.widget-view+json": {
       "model_id": "fb7770ba649d4342891d045899035642",
       "version_major": 2,
       "version_minor": 0
      },
      "text/plain": [
       "VBox(children=(HTML(value='Fitting background : '), HTML(value=''), FloatProgress(value=0.0)))"
      ]
     },
     "metadata": {},
     "output_type": "display_data"
    },
    {
     "name": "stdout",
     "output_type": "stream",
     "text": [
      "Binned 0-order polynomial fit with the Powell method\n",
      "\n",
      "\n",
      "\n",
      "Saved fitted background to b0_bkg.h5.\n",
      "\n",
      "Successfully restored fit from b0_bkg.h5\n",
      "Auto-probed noise models:\n",
      "- observation: poisson\n",
      "- background: gaussian\n",
      "Range 250-900 translates to channels 1-19\n",
      "Now using 19 channels out of 128\n",
      "Now using 19 bins\n"
     ]
    },
    {
     "data": {
      "image/png": "[encoded data removed]",
      "text/plain": [
       "<Figure size 432x288 with 1 Axes>"
      ]
     },
     "metadata": {
      "needs_background": "light"
     },
     "output_type": "display_data"
    },
    {
     "data": {
      "image/png": "[encoded data removed]",
      "text/plain": [
       "<Figure size 432x288 with 1 Axes>"
      ]
     },
     "metadata": {
      "needs_background": "light"
     },
     "output_type": "display_data"
    }
   ],
   "source": [
    "#Here we are creating a loop to reach every triggered detector of the GRB\n",
    "\n",
    "fluence_plugins = []\n",
    "time_series = {}\n",
    "for det in gbm_detectors:\n",
    "\n",
    "\n",
    "#Here we are selecting the spectrum files and the responses (we use cspec files because it has more energy bins\n",
    "#and it has a better time resolution)\n",
    "    ts_cspec = TimeSeriesBuilder.from_gbm_cspec_or_ctime(\n",
    "        det, cspec_or_ctime_file=dload[det][\"cspec\"], rsp_file=dload[det][\"rsp\"])\n",
    "    \n",
    "#This part is responsible for fitting the background by a specific polynomial from the files loaded above\n",
    "    ts_cspec.set_background_interval(*background_interval.split(\",\"))\n",
    "    ts_cspec.save_background(f\"{det}_bkg.h5\", overwrite=True)\n",
    "\n",
    "#Now we construct the light curve for the GRB from the tte files and using the fitted background file created above   \n",
    "    ts_tte = TimeSeriesBuilder.from_gbm_tte(\n",
    "        det,\n",
    "        tte_file=dload[det][\"tte\"],\n",
    "        rsp_file=dload[det][\"rsp\"],\n",
    "        restore_background=f\"{det}_bkg.h5\",)\n",
    "\n",
    "#Here we are plotting the light curve first we select the time interval in which the analysis will happen\n",
    "#Second we choose the time range of the light curve plotted\n",
    "    time_series[det] = ts_tte\n",
    "\n",
    "    ts_tte.set_active_time_interval('0-100')\n",
    "\n",
    "    ts_tte.view_lightcurve(-20, 150)\n",
    "\n",
    "#Here we are building the spectrum that will be analysed, first we choose  the spectrum to be a dispersion of the\n",
    "#full file spectrum against the background and latter we will choose the energy bins used\n",
    "    \n",
    "    fluence_plugin = ts_tte.to_spectrumlike()\n",
    "\n",
    "    if det.startswith(\"b\"):\n",
    "\n",
    "        fluence_plugin.set_active_measurements(\"250-900\")\n",
    "\n",
    "    else:\n",
    "\n",
    "        fluence_plugin.set_active_measurements(\"9-900\")\n",
    "\n",
    "    fluence_plugin.rebin_on_background(1.)\n",
    "\n",
    "    fluence_plugins.append(fluence_plugin)"
   ]
  },
  {
   "cell_type": "code",
   "execution_count": 46,
   "metadata": {
    "scrolled": true
   },
   "outputs": [
    {
     "name": "stdout",
     "output_type": "stream",
     "text": [
      "<class 'threeML.utils.data_builders.time_series_builder.TimeSeriesBuilder'>\n",
      "Created 1 bins via custom\n",
      "Created 1 bins via custom\n"
     ]
    }
   ],
   "source": [
    "#defining the time bins for the analysis\n",
    "n3 = time_series['n4']\n",
    "print(type(n3))\n",
    "time_edges = np.array([59,66])\n",
    "\n",
    "starts = time_edges[:-1]\n",
    "\n",
    "stops = time_edges[1:]\n",
    "\n",
    "n3.create_time_bins(start=starts, stop=stops, method='custom')\n",
    "\n",
    "\n",
    "\n",
    "#here we are taking out the bad bins, the one after 15 seconds in this example\n",
    "bad_bins = []\n",
    "for i, w in enumerate(n3.bins.widths):\n",
    "\n",
    "    if w < 5E-2:\n",
    "        bad_bins.append(i)\n",
    "\n",
    "\n",
    "edges = [n3.bins.starts[0]]\n",
    "\n",
    "for i,b in enumerate(n3.bins):\n",
    "\n",
    "    if i not in bad_bins:\n",
    "        edges.append(b.stop)\n",
    "\n",
    "starts=edges[:-1]\n",
    "stops = edges[1:]\n",
    "\n",
    "\n",
    "n3.create_time_bins(starts, stops, method='custom')\n",
    "#only if it has enough binnings \n",
    "#n3.view_lightcurve(use_binner=True);"
   ]
  },
  {
   "cell_type": "code",
   "execution_count": 47,
   "metadata": {
    "scrolled": false
   },
   "outputs": [
    {
     "name": "stdout",
     "output_type": "stream",
     "text": [
      "Created 1 bins via custom\n"
     ]
    },
    {
     "data": {
      "application/vnd.jupyter.widget-view+json": {
       "model_id": "a23f631a2c7442faa87d0b707099e717",
       "version_major": 2,
       "version_minor": 0
      },
      "text/plain": [
       "VBox(children=(HTML(value='Creating plugins : '), HTML(value=''), FloatProgress(value=0.0)))"
      ]
     },
     "metadata": {},
     "output_type": "display_data"
    },
    {
     "name": "stdout",
     "output_type": "stream",
     "text": [
      "Created 1 bins via custom\n"
     ]
    },
    {
     "data": {
      "application/vnd.jupyter.widget-view+json": {
       "model_id": "2e1ea6ee78b54f4ba7501ee37592d5a2",
       "version_major": 2,
       "version_minor": 0
      },
      "text/plain": [
       "VBox(children=(HTML(value='Creating plugins : '), HTML(value=''), FloatProgress(value=0.0)))"
      ]
     },
     "metadata": {},
     "output_type": "display_data"
    }
   ],
   "source": [
    "#here we are defining the bins for the other detectors with the bin of de detector above\n",
    "time_resolved_plugins = {}\n",
    "for k,v in time_series.items():\n",
    "    v.read_bins(n3)\n",
    "    time_resolved_plugins[k] = v.to_spectrumlike(from_bins=True)"
   ]
  },
  {
   "cell_type": "code",
   "execution_count": 48,
   "metadata": {},
   "outputs": [],
   "source": [
    "#here we are choosing a model for fitting the spectrum\n",
    "BBCPL = Cutoff_powerlaw()\n",
    "\n",
    "#BBCPL.kT_1.bounds = (0,None)\n",
    "#BBCPL.kT_1.prior =  Gaussian(mu = 27 , sigma = 2)\n",
    "#BBCPL.K_1.bounds = (0, None)\n",
    "#BBCPL.K_1.prior =  Log_uniform_prior()\n",
    "#BBCPL.K_2.prior = Uniform_prior(lower_bound = 1e-30, upper_bound = 1000.0)\n",
    "#BBCPL.piv_2.bounds = (-3, None)\n",
    "#BBCPL.piv_2.prior = Gaussian(mu = 745 , sigma = 5)\n",
    "#BBCPL.index_2.prior = Gaussian(mu = -1 , sigma = 0.5)\n",
    "#BBCPL.xc_2.bounds = (1e-30, None)\n",
    "#BBCPL.xc_2.prior =  Gaussian(mu = 745 , sigma = 5)\n",
    "\n",
    "#The information of ps is the GRB trigger name , it's ra, DEC and spectral model\n",
    "ps = PointSource('bn160509374', 310.1 , 76 ,spectral_shape=BBCPL)\n",
    "BBCPL_model = Model(ps)"
   ]
  },
  {
   "cell_type": "code",
   "execution_count": 49,
   "metadata": {
    "scrolled": true
   },
   "outputs": [
    {
     "name": "stdout",
     "output_type": "stream",
     "text": [
      "Best fit values:\n",
      "\n"
     ]
    },
    {
     "data": {
      "text/html": [
       "<div>\n",
       "<style scoped>\n",
       "    .dataframe tbody tr th:only-of-type {\n",
       "        vertical-align: middle;\n",
       "    }\n",
       "\n",
       "    .dataframe tbody tr th {\n",
       "        vertical-align: top;\n",
       "    }\n",
       "\n",
       "    .dataframe thead th {\n",
       "        text-align: right;\n",
       "    }\n",
       "</style>\n",
       "<table border=\"1\" class=\"dataframe\">\n",
       "  <thead>\n",
       "    <tr style=\"text-align: right;\">\n",
       "      <th></th>\n",
       "      <th>result</th>\n",
       "      <th>unit</th>\n",
       "    </tr>\n",
       "    <tr>\n",
       "      <th>parameter</th>\n",
       "      <th></th>\n",
       "      <th></th>\n",
       "    </tr>\n",
       "  </thead>\n",
       "  <tbody>\n",
       "    <tr>\n",
       "      <th>bn160509374.spectrum.main.Cutoff_powerlaw.K</th>\n",
       "      <td>(1.30 +/- 0.08) x 10</td>\n",
       "      <td>1 / (cm2 keV s)</td>\n",
       "    </tr>\n",
       "    <tr>\n",
       "      <th>bn160509374.spectrum.main.Cutoff_powerlaw.index</th>\n",
       "      <td>(-9.73 +/- 0.16) x 10^-1</td>\n",
       "      <td></td>\n",
       "    </tr>\n",
       "    <tr>\n",
       "      <th>bn160509374.spectrum.main.Cutoff_powerlaw.xc</th>\n",
       "      <td>(3.56 +/- 0.14) x 10^2</td>\n",
       "      <td>keV</td>\n",
       "    </tr>\n",
       "  </tbody>\n",
       "</table>\n",
       "</div>"
      ],
      "text/plain": [
       "                                                                   result  \\\n",
       "parameter                                                                   \n",
       "bn160509374.spectrum.main.Cutoff_powerlaw.K          (1.30 +/- 0.08) x 10   \n",
       "bn160509374.spectrum.main.Cutoff_powerlaw.index  (-9.73 +/- 0.16) x 10^-1   \n",
       "bn160509374.spectrum.main.Cutoff_powerlaw.xc       (3.56 +/- 0.14) x 10^2   \n",
       "\n",
       "                                                            unit  \n",
       "parameter                                                         \n",
       "bn160509374.spectrum.main.Cutoff_powerlaw.K      1 / (cm2 keV s)  \n",
       "bn160509374.spectrum.main.Cutoff_powerlaw.index                   \n",
       "bn160509374.spectrum.main.Cutoff_powerlaw.xc                 keV  "
      ]
     },
     "metadata": {},
     "output_type": "display_data"
    },
    {
     "name": "stdout",
     "output_type": "stream",
     "text": [
      "\n",
      "Correlation matrix:\n",
      "\n"
     ]
    },
    {
     "data": {
      "text/html": [
       "<table id=\"table140291726696272\">\n",
       "<tr><td>1.00</td><td>-0.98</td><td>0.83</td></tr>\n",
       "<tr><td>-0.98</td><td>1.00</td><td>-0.90</td></tr>\n",
       "<tr><td>0.83</td><td>-0.90</td><td>1.00</td></tr>\n",
       "</table>"
      ],
      "text/plain": [
       " 1.00 -0.98  0.83\n",
       "-0.98  1.00 -0.90\n",
       " 0.83 -0.90  1.00"
      ]
     },
     "metadata": {},
     "output_type": "display_data"
    },
    {
     "name": "stdout",
     "output_type": "stream",
     "text": [
      "\n",
      "Values of -log(likelihood) at the minimum:\n",
      "\n"
     ]
    },
    {
     "data": {
      "text/html": [
       "<div>\n",
       "<style scoped>\n",
       "    .dataframe tbody tr th:only-of-type {\n",
       "        vertical-align: middle;\n",
       "    }\n",
       "\n",
       "    .dataframe tbody tr th {\n",
       "        vertical-align: top;\n",
       "    }\n",
       "\n",
       "    .dataframe thead th {\n",
       "        text-align: right;\n",
       "    }\n",
       "</style>\n",
       "<table border=\"1\" class=\"dataframe\">\n",
       "  <thead>\n",
       "    <tr style=\"text-align: right;\">\n",
       "      <th></th>\n",
       "      <th>-log(likelihood)</th>\n",
       "    </tr>\n",
       "  </thead>\n",
       "  <tbody>\n",
       "    <tr>\n",
       "      <th>b0_interval0</th>\n",
       "      <td>152.748704</td>\n",
       "    </tr>\n",
       "    <tr>\n",
       "      <th>n4_interval0</th>\n",
       "      <td>824.628918</td>\n",
       "    </tr>\n",
       "    <tr>\n",
       "      <th>total</th>\n",
       "      <td>977.377622</td>\n",
       "    </tr>\n",
       "  </tbody>\n",
       "</table>\n",
       "</div>"
      ],
      "text/plain": [
       "              -log(likelihood)\n",
       "b0_interval0        152.748704\n",
       "n4_interval0        824.628918\n",
       "total               977.377622"
      ]
     },
     "metadata": {},
     "output_type": "display_data"
    },
    {
     "name": "stdout",
     "output_type": "stream",
     "text": [
      "\n",
      "Values of statistical measures:\n",
      "\n"
     ]
    },
    {
     "data": {
      "text/html": [
       "<div>\n",
       "<style scoped>\n",
       "    .dataframe tbody tr th:only-of-type {\n",
       "        vertical-align: middle;\n",
       "    }\n",
       "\n",
       "    .dataframe tbody tr th {\n",
       "        vertical-align: top;\n",
       "    }\n",
       "\n",
       "    .dataframe thead th {\n",
       "        text-align: right;\n",
       "    }\n",
       "</style>\n",
       "<table border=\"1\" class=\"dataframe\">\n",
       "  <thead>\n",
       "    <tr style=\"text-align: right;\">\n",
       "      <th></th>\n",
       "      <th>statistical measures</th>\n",
       "    </tr>\n",
       "  </thead>\n",
       "  <tbody>\n",
       "    <tr>\n",
       "      <th>AIC</th>\n",
       "      <td>1960.927907</td>\n",
       "    </tr>\n",
       "    <tr>\n",
       "      <th>BIC</th>\n",
       "      <td>1969.643779</td>\n",
       "    </tr>\n",
       "  </tbody>\n",
       "</table>\n",
       "</div>"
      ],
      "text/plain": [
       "     statistical measures\n",
       "AIC           1960.927907\n",
       "BIC           1969.643779"
      ]
     },
     "metadata": {},
     "output_type": "display_data"
    }
   ],
   "source": [
    "models = []\n",
    "results = []\n",
    "analysis = []\n",
    "for interval in range(1):\n",
    "\n",
    "    # clone the model above so that we have a separate model\n",
    "    # for each fit\n",
    "\n",
    "    this_model = clone_model(BBCPL_model)\n",
    "\n",
    "\n",
    "    # for each detector set up the plugin\n",
    "    # for this time interval\n",
    "\n",
    "    this_data_list = []\n",
    "    for k, v in time_resolved_plugins.items():\n",
    "        \n",
    "        pi = v[interval]\n",
    "\n",
    "        if k.startswith(\"b\"):\n",
    "            pi.set_active_measurements(\"250-1000\")\n",
    "        else:\n",
    "            pi.set_active_measurements(\"9-1000\")\n",
    "\n",
    "        pi.rebin_on_background(1.0)\n",
    "\n",
    "        this_data_list.append(pi)\n",
    "\n",
    "    # create a data list\n",
    "\n",
    "    dlist = DataList(*this_data_list)\n",
    "    \n",
    "    # set up the sampler and fit\n",
    "\n",
    "    #bayes = BayesianAnalysis(this_model, dlist)\n",
    "    #bayes.set_sampler(\"multinest\")\n",
    "    #bayes.sampler.setup(n_live_points=500)\n",
    "    #bayes.sample()\n",
    "    jl = JointLikelihood(this_model,dlist)\n",
    "    result = jl.fit()\n",
    "    #at this stage we coudl also\n",
    "    # save the analysis result to\n",
    "    # disk but we will simply hold\n",
    "    # onto them in memory\n",
    "\n",
    "    analysis.append(jl)"
   ]
  },
  {
   "cell_type": "code",
   "execution_count": 50,
   "metadata": {},
   "outputs": [
    {
     "data": {
      "application/vnd.jupyter.widget-view+json": {
       "model_id": "fd549476d0c640f1a7acdaf712f69435",
       "version_major": 2,
       "version_minor": 0
      },
      "text/plain": [
       "VBox(children=(HTML(value='Propagating errors : '), HTML(value=''), FloatProgress(value=0.0)))"
      ]
     },
     "metadata": {},
     "output_type": "display_data"
    },
    {
     "data": {
      "image/png": "[encoded data removed]",
      "text/plain": [
       "<Figure size 432x288 with 2 Axes>"
      ]
     },
     "metadata": {
      "needs_background": "light"
     },
     "output_type": "display_data"
    },
    {
     "data": {
      "image/png": "[encoded data removed]",
      "text/plain": [
       "<Figure size 432x288 with 1 Axes>"
      ]
     },
     "metadata": {
      "needs_background": "light"
     },
     "output_type": "display_data"
    }
   ],
   "source": [
    "#here we re just plotting the spectrum fitting \n",
    "for spectrum in analysis:\n",
    "    #spectrum.restore_median_fit()\n",
    "    display_spectrum_model_counts(spectrum, min_rate=[0,0,0,0], step=False)\n",
    "    #spectrum.results.corner_plot()\n",
    "plot_spectra(*[a.results for a in analysis[::1]], flux_unit=\"1/(cm2 s keV)\", fit_cmap='viridis', contour_cmap='viridis', contour_style_kwargs=dict(alpha=0.1),\n",
    "            ene_min = 1, ene_max = 1000);"
   ]
  },
  {
   "cell_type": "code",
   "execution_count": 51,
   "metadata": {},
   "outputs": [
    {
     "name": "stdout",
     "output_type": "stream",
     "text": [
      "Sources redshift 0.54\n"
     ]
    },
    {
     "data": {
      "text/plain": [
       "1.0083135549295775e+28"
      ]
     },
     "metadata": {},
     "output_type": "display_data"
    },
    {
     "data": {
      "application/vnd.jupyter.widget-view+json": {
       "model_id": "f6fc01db3e754ee5aa67517c3ffd23b0",
       "version_major": 2,
       "version_minor": 0
      },
      "text/plain": [
       "VBox(children=(HTML(value='Propagating errors : '), HTML(value=''), FloatProgress(value=0.0)))"
      ]
     },
     "metadata": {},
     "output_type": "display_data"
    },
    {
     "data": {
      "text/html": [
       "<div>\n",
       "<style scoped>\n",
       "    .dataframe tbody tr th:only-of-type {\n",
       "        vertical-align: middle;\n",
       "    }\n",
       "\n",
       "    .dataframe tbody tr th {\n",
       "        vertical-align: top;\n",
       "    }\n",
       "\n",
       "    .dataframe thead th {\n",
       "        text-align: right;\n",
       "    }\n",
       "</style>\n",
       "<table border=\"1\" class=\"dataframe\">\n",
       "  <thead>\n",
       "    <tr style=\"text-align: right;\">\n",
       "      <th></th>\n",
       "      <th>flux</th>\n",
       "      <th>low bound</th>\n",
       "      <th>hi bound</th>\n",
       "    </tr>\n",
       "  </thead>\n",
       "  <tbody>\n",
       "    <tr>\n",
       "      <th>bn160509374: total</th>\n",
       "      <td>7.863702427149612e-06 erg / (cm2 s)</td>\n",
       "      <td>7.023065475384497e-06 erg / (cm2 s)</td>\n",
       "      <td>8.859731347238013e-06 erg / (cm2 s)</td>\n",
       "    </tr>\n",
       "  </tbody>\n",
       "</table>\n",
       "</div>"
      ],
      "text/plain": [
       "                                                   flux  \\\n",
       "bn160509374: total  7.863702427149612e-06 erg / (cm2 s)   \n",
       "\n",
       "                                              low bound  \\\n",
       "bn160509374: total  7.023065475384497e-06 erg / (cm2 s)   \n",
       "\n",
       "                                               hi bound  \n",
       "bn160509374: total  8.859731347238013e-06 erg / (cm2 s)  "
      ]
     },
     "metadata": {},
     "output_type": "display_data"
    },
    {
     "data": {
      "text/html": [
       "<div>\n",
       "<style scoped>\n",
       "    .dataframe tbody tr th:only-of-type {\n",
       "        vertical-align: middle;\n",
       "    }\n",
       "\n",
       "    .dataframe tbody tr th {\n",
       "        vertical-align: top;\n",
       "    }\n",
       "\n",
       "    .dataframe thead th {\n",
       "        text-align: right;\n",
       "    }\n",
       "</style>\n",
       "<table border=\"1\" class=\"dataframe\">\n",
       "  <thead>\n",
       "    <tr style=\"text-align: right;\">\n",
       "      <th></th>\n",
       "      <th>flux</th>\n",
       "      <th>low bound</th>\n",
       "      <th>hi bound</th>\n",
       "    </tr>\n",
       "  </thead>\n",
       "  <tbody>\n",
       "    <tr>\n",
       "      <th>bn160509374: total</th>\n",
       "      <td>6.523896437046658e+51 erg / (cm2 s)</td>\n",
       "      <td>5.8264859659261105e+51 erg / (cm2 s)</td>\n",
       "      <td>7.350223422732902e+51 erg / (cm2 s)</td>\n",
       "    </tr>\n",
       "  </tbody>\n",
       "</table>\n",
       "</div>"
      ],
      "text/plain": [
       "                                                   flux  \\\n",
       "bn160509374: total  6.523896437046658e+51 erg / (cm2 s)   \n",
       "\n",
       "                                               low bound  \\\n",
       "bn160509374: total  5.8264859659261105e+51 erg / (cm2 s)   \n",
       "\n",
       "                                               hi bound  \n",
       "bn160509374: total  7.350223422732902e+51 erg / (cm2 s)  "
      ]
     },
     "metadata": {},
     "output_type": "display_data"
    },
    {
     "data": {
      "text/html": [
       "<div>\n",
       "<style scoped>\n",
       "    .dataframe tbody tr th:only-of-type {\n",
       "        vertical-align: middle;\n",
       "    }\n",
       "\n",
       "    .dataframe tbody tr th {\n",
       "        vertical-align: top;\n",
       "    }\n",
       "\n",
       "    .dataframe thead th {\n",
       "        text-align: right;\n",
       "    }\n",
       "</style>\n",
       "<table border=\"1\" class=\"dataframe\">\n",
       "  <thead>\n",
       "    <tr style=\"text-align: right;\">\n",
       "      <th></th>\n",
       "      <th>flux</th>\n",
       "      <th>low bound</th>\n",
       "      <th>hi bound</th>\n",
       "    </tr>\n",
       "  </thead>\n",
       "  <tbody>\n",
       "    <tr>\n",
       "      <th>bn160509374: total</th>\n",
       "      <td>4.5667275059326605e+52 erg / (cm2 s)</td>\n",
       "      <td>4.0785401761482774e+52 erg / (cm2 s)</td>\n",
       "      <td>5.145156395913031e+52 erg / (cm2 s)</td>\n",
       "    </tr>\n",
       "  </tbody>\n",
       "</table>\n",
       "</div>"
      ],
      "text/plain": [
       "                                                    flux  \\\n",
       "bn160509374: total  4.5667275059326605e+52 erg / (cm2 s)   \n",
       "\n",
       "                                               low bound  \\\n",
       "bn160509374: total  4.0785401761482774e+52 erg / (cm2 s)   \n",
       "\n",
       "                                               hi bound  \n",
       "bn160509374: total  5.145156395913031e+52 erg / (cm2 s)  "
      ]
     },
     "metadata": {},
     "output_type": "display_data"
    }
   ],
   "source": [
    "#this part we are creating an algorithm to calculate the flux, luminosity and energy\n",
    "#first we calculate the luminosity distance of the GRB by its redshift considering\n",
    "# a flat universe then we calculate the luminosity, flux and energy and display in a list\n",
    "luminosity= []\n",
    "energy = []\n",
    "i = 0\n",
    "#the GRB redshift can be found in NASA's website\n",
    "z = float(input('Sources redshift '))\n",
    "H_0 = 71/3.086e+24 #km/s cm\n",
    "q_0 = -0.6\n",
    "luminosity_distance = 3e5/H_0*z*(1+(1-q_0)*z/2) #cm\n",
    "display(luminosity_distance)\n",
    "for spectrum in analysis:\n",
    "    flux = calculate_point_source_flux(9,1000,spectrum.results,flux_unit='erg/(s cm2)',energy_unit='keV',use_components=True,components_to_use=['Blackbody','Cutoff_powerlaw','total'])\n",
    "    luminosity.append(4*3.14159*luminosity_distance*luminosity_distance/(1+z)*flux[0])\n",
    "    energy.append(4*3.14159*luminosity_distance*luminosity_distance/(1+z)*flux[0]*(time_edges[i+1]-time_edges[i]))\n",
    "    display(flux[0])\n",
    "    display(luminosity[i])\n",
    "    display(energy[i])\n",
    "    i = 1+i"
   ]
  },
  {
   "cell_type": "code",
   "execution_count": null,
   "metadata": {},
   "outputs": [],
   "source": []
  }
 ],
 "metadata": {
  "kernelspec": {
   "display_name": "Python 3",
   "language": "python",
   "name": "python3"
  },
  "language_info": {
   "codemirror_mode": {
    "name": "ipython",
    "version": 3
   },
   "file_extension": ".py",
   "mimetype": "text/x-python",
   "name": "python",
   "nbconvert_exporter": "python",
   "pygments_lexer": "ipython3",
   "version": "3.7.8"
  }
 },
 "nbformat": 4,
 "nbformat_minor": 4
}
